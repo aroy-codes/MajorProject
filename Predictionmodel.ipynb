{
 "cells": [
  {
   "cell_type": "code",
   "execution_count": 1,
   "id": "648a9e19-a376-4f4e-8f4d-b20a2f7f8155",
   "metadata": {},
   "outputs": [
    {
     "name": "stdout",
     "output_type": "stream",
     "text": [
      "Environment check:\n",
      " Python: 3.10.18 | packaged by Anaconda, Inc. | (main, Jun  5 2025, 13:08:55) [MSC v.1929 64 bit (AMD64)]\n",
      " pandas: 2.3.3  numpy: 2.2.6\n",
      " lightgbm: 4.6.0  tensorflow: 2.20.0\n"
     ]
    }
   ],
   "source": [
    "# Cell 1 - Preflight: imports, basic checks, config snapshot\n",
    "import os, sys, json, math, gc, warnings\n",
    "from pathlib import Path\n",
    "from datetime import date\n",
    "import numpy as np\n",
    "import pandas as pd\n",
    "from tqdm import tqdm\n",
    "import matplotlib.pyplot as plt\n",
    "import seaborn as sns\n",
    "\n",
    "# ML & DL\n",
    "import lightgbm as lgb\n",
    "from sklearn.model_selection import TimeSeriesSplit\n",
    "from sklearn.preprocessing import StandardScaler, LabelEncoder\n",
    "from sklearn.metrics import (accuracy_score, f1_score, roc_auc_score,\n",
    "                             classification_report, confusion_matrix, mean_squared_error)\n",
    "import joblib\n",
    "\n",
    "import tensorflow as tf\n",
    "from tensorflow.keras.models import Model\n",
    "from tensorflow.keras.layers import Input, Embedding, LSTM, Dense, Dropout, Flatten, concatenate\n",
    "from tensorflow.keras.callbacks import EarlyStopping, ModelCheckpoint, ReduceLROnPlateau\n",
    "\n",
    "warnings.filterwarnings(\"ignore\")\n",
    "np.random.seed(42)\n",
    "tf.random.set_seed(42)\n",
    "\n",
    "print(\"Environment check:\")\n",
    "print(\" Python:\", sys.version.splitlines()[0])\n",
    "print(\" pandas:\", pd.__version__, \" numpy:\", np.__version__)\n",
    "print(\" lightgbm:\", lgb.__version__, \" tensorflow:\", tf.__version__)\n"
   ]
  },
  {
   "cell_type": "code",
   "execution_count": 2,
   "id": "a646f15f-c75f-4497-9b4c-bf6e8ee126bd",
   "metadata": {},
   "outputs": [
    {
     "name": "stdout",
     "output_type": "stream",
     "text": [
      "Config set; output directory: C:\\Users\\KIIT\\Downloads\\predictions_output\n"
     ]
    }
   ],
   "source": [
    "# Cell 2 - Configuration (edit paths if needed)\n",
    "OVERVIEW_XLSX = r\"C:\\Users\\KIIT\\Downloads\\all_companies_overview.xlsx\"\n",
    "BALANCE_XLSX  = r\"C:\\Users\\KIIT\\Downloads\\all_companies_balancesheet.xlsx\"\n",
    "PRICE_FOLDER  = r\"C:\\Users\\KIIT\\Downloads\\cleaned\"   # folder of CSVs (one per ticker)\n",
    "OUTPUT_DIR    = r\"C:\\Users\\KIIT\\Downloads\\predictions_output\"\n",
    "Path(OUTPUT_DIR).mkdir(parents=True, exist_ok=True)\n",
    "\n",
    "# Modeling config\n",
    "PRED_HORIZON = 3           # predict movement after 3 days\n",
    "THRESHOLD = 0.0            # threshold for up (0 => any positive return)\n",
    "MIN_DAYS_PER_TICKER = 100  # filter tickers with fewer rows\n",
    "LOOKBACK = 60              # LSTM lookback days\n",
    "LSTM_UNITS = 64\n",
    "EMBED_DIM = 32\n",
    "LSTM_BATCH = 128\n",
    "LSTM_EPOCHS = 25\n",
    "\n",
    "LGB_PARAMS_CLASS = {\n",
    "    'objective':'binary',\n",
    "    'boosting_type':'gbdt',\n",
    "    'metric':'auc',\n",
    "    'learning_rate':0.02,\n",
    "    'num_leaves':64,\n",
    "    'feature_fraction':0.8,\n",
    "    'bagging_fraction':0.8,\n",
    "    'bagging_freq':5,\n",
    "    'min_data_in_leaf':20,\n",
    "    'n_jobs':-1,\n",
    "    'verbose':-1\n",
    "}\n",
    "LGB_PARAMS_REG = LGB_PARAMS_CLASS.copy()\n",
    "LGB_PARAMS_REG.update({'objective':'regression', 'metric':'rmse'})\n",
    "\n",
    "# reproducibility\n",
    "RANDOM_STATE = 42\n",
    "print(\"Config set; output directory:\", OUTPUT_DIR)\n"
   ]
  },
  {
   "cell_type": "code",
   "execution_count": 3,
   "id": "c3b185e4-de31-4b11-b9c2-e49fd5e4092b",
   "metadata": {},
   "outputs": [
    {
     "name": "stdout",
     "output_type": "stream",
     "text": [
      "Found price files: 2061\n"
     ]
    },
    {
     "name": "stderr",
     "output_type": "stream",
     "text": [
      "Reading price files: 100%|█████████████████████████████████████████████████████████| 2061/2061 [00:58<00:00, 35.39it/s]\n"
     ]
    },
    {
     "name": "stdout",
     "output_type": "stream",
     "text": [
      "Total price rows: 6592834 unique tickers: 2055\n",
      "Tickers retained (>= MIN_DAYS_PER_TICKER): 2008\n"
     ]
    }
   ],
   "source": [
    "# Cell 3 - Load all price CSVs into one DataFrame (robust header handling)\n",
    "import glob\n",
    "\n",
    "def read_price_csv(path):\n",
    "    \"\"\"Robust read for per-ticker CSV: expects a Date column + price columns.\"\"\"\n",
    "    df = pd.read_csv(path, low_memory=False)\n",
    "    cols = {c.lower(): c for c in df.columns}\n",
    "    # normalize date\n",
    "    date_col = None\n",
    "    for c in cols:\n",
    "        if 'date' == c or 'dt' == c or 'timestamp' in c:\n",
    "            date_col = cols[c]; break\n",
    "    if date_col is None:\n",
    "        # try first column as date\n",
    "        date_col = df.columns[0]\n",
    "    df = df.rename(columns={date_col:'Date'})\n",
    "    # find close\n",
    "    close_col = None\n",
    "    for k in ('close','adj close','close_price','closeprice'):\n",
    "        if k in cols:\n",
    "            close_col = cols[k]; break\n",
    "    if close_col is None:\n",
    "        # pick numeric column besides Date as Close\n",
    "        for c in df.columns:\n",
    "            if c!='Date' and pd.api.types.is_numeric_dtype(df[c]):\n",
    "                close_col = c; break\n",
    "    df = df.rename(columns={close_col:'Close'})\n",
    "    # ensure ticker column\n",
    "    if 'Ticker' not in df.columns:\n",
    "        ticker = Path(path).stem\n",
    "        df['Ticker'] = ticker.upper()\n",
    "    df['Date'] = pd.to_datetime(df['Date'], errors='coerce')\n",
    "    df = df[['Date','Ticker','Close'] + [c for c in df.columns if c not in ['Date','Ticker','Close']]]\n",
    "    df = df.dropna(subset=['Date','Close']).sort_values(['Ticker','Date']).reset_index(drop=True)\n",
    "    df['Ticker'] = df['Ticker'].astype(str).str.upper().str.strip()\n",
    "    df['Close'] = pd.to_numeric(df['Close'], errors='coerce')\n",
    "    return df\n",
    "\n",
    "# read all csvs\n",
    "csv_files = glob.glob(os.path.join(PRICE_FOLDER, \"*.csv\"))\n",
    "print(\"Found price files:\", len(csv_files))\n",
    "price_frames = []\n",
    "for f in tqdm(csv_files, desc=\"Reading price files\"):\n",
    "    try:\n",
    "        df = read_price_csv(f)\n",
    "        if len(df) >= 10:\n",
    "            price_frames.append(df)\n",
    "    except Exception as e:\n",
    "        print(\"Failed to read:\", f, e)\n",
    "\n",
    "prices = pd.concat(price_frames, ignore_index=True, sort=False)\n",
    "print(\"Total price rows:\", len(prices), \"unique tickers:\", prices['Ticker'].nunique())\n",
    "\n",
    "# filter tickers with sufficient history\n",
    "counts = prices.groupby('Ticker').size().reset_index(name='n')\n",
    "good = counts[counts['n'] >= MIN_DAYS_PER_TICKER]['Ticker'].tolist()\n",
    "prices = prices[prices['Ticker'].isin(good)].reset_index(drop=True)\n",
    "print(\"Tickers retained (>= MIN_DAYS_PER_TICKER):\", len(good))\n"
   ]
  },
  {
   "cell_type": "code",
   "execution_count": 4,
   "id": "a84cd760-c0ed-4d64-a94e-b47c3fb4e14a",
   "metadata": {},
   "outputs": [
    {
     "name": "stdout",
     "output_type": "stream",
     "text": [
      "Overview rows: 2060 Balances rows: 9997\n",
      "Overview tickers (sample): ['20MICRONS.NS' '3MINDIA.NS' '21STCENMGM.NS' '3PLAND.NS' '5PAISA.NS'\n",
      " '360ONE.NS' '63MOONS.NS' 'AADHARHFC.NS' 'AAKASH.NS' 'A2ZINFRA.NS']\n"
     ]
    }
   ],
   "source": [
    "# Cell 4 - Read overview & balance book (all sheets combined)\n",
    "def read_all_sheets(path):\n",
    "    sheets = pd.read_excel(path, sheet_name=None, engine='openpyxl')\n",
    "    frames = []\n",
    "    for sname, df in sheets.items():\n",
    "        if df is None or df.shape[0]==0: continue\n",
    "        df = df.copy()\n",
    "        df['_sheet_name'] = sname\n",
    "        frames.append(df)\n",
    "    if frames:\n",
    "        return pd.concat(frames, ignore_index=True, sort=False)\n",
    "    else:\n",
    "        return pd.DataFrame()\n",
    "\n",
    "overview = read_all_sheets(OVERVIEW_XLSX)\n",
    "balances = read_all_sheets(BALANCE_XLSX)\n",
    "print(\"Overview rows:\", len(overview), \"Balances rows:\", len(balances))\n",
    "\n",
    "# Try normalize ticker column if exists\n",
    "def normalize_ticker_col(df):\n",
    "    df = df.copy()\n",
    "    cols = [c.lower() for c in df.columns]\n",
    "    for cand in ['yahoo_ticker','ticker','symbol','company','code']:\n",
    "        if cand in cols:\n",
    "            df['Ticker'] = df.iloc[:, cols.index(cand)].astype(str).str.upper().str.strip()\n",
    "            return df\n",
    "    # fallback: if sheet name provided earlier\n",
    "    if '_sheet_name' in df.columns:\n",
    "        df['Ticker'] = df['_sheet_name'].astype(str).str.upper().str.strip()\n",
    "    return df\n",
    "\n",
    "overview = normalize_ticker_col(overview)\n",
    "balances = normalize_ticker_col(balances)\n",
    "print(\"Overview tickers (sample):\", overview['Ticker'].dropna().unique()[:10])\n"
   ]
  },
  {
   "cell_type": "code",
   "execution_count": 5,
   "id": "32603ac5-0895-4b36-ae41-bb4bee9155da",
   "metadata": {},
   "outputs": [
    {
     "name": "stderr",
     "output_type": "stream",
     "text": [
      "Computing technicals: 100%|███████████████████████████████████████████████████████| 2008/2008 [00:14<00:00, 141.90it/s]\n"
     ]
    },
    {
     "name": "stdout",
     "output_type": "stream",
     "text": [
      "Data after technicals: (6590587, 18)\n"
     ]
    }
   ],
   "source": [
    "# Cell 5 - Technical indicators per ticker\n",
    "def add_tech_indicators(group):\n",
    "    g = group.sort_values('Date').reset_index(drop=True).copy()\n",
    "    g['Close'] = pd.to_numeric(g['Close'], errors='coerce')\n",
    "    g['Ret1'] = g['Close'].pct_change(1)\n",
    "    g['Ret2'] = g['Close'].pct_change(2)\n",
    "    g['Ret3'] = g['Close'].pct_change(3)\n",
    "    g['MA5'] = g['Close'].rolling(5, min_periods=1).mean()\n",
    "    g['MA10'] = g['Close'].rolling(10, min_periods=1).mean()\n",
    "    g['MA20'] = g['Close'].rolling(20, min_periods=1).mean()\n",
    "    g['STD10'] = g['Ret1'].rolling(10, min_periods=1).std()\n",
    "    g['Momentum5'] = g['Close'] / g['MA5'] - 1\n",
    "    # RSI (simple)\n",
    "    delta = g['Close'].diff()\n",
    "    up = delta.clip(lower=0).rolling(14).mean()\n",
    "    down = -delta.clip(upper=0).rolling(14).mean()\n",
    "    g['RSI'] = 100 - (100 / (1 + up/(down+1e-9)))\n",
    "    # Bollinger width\n",
    "    bb_mid = g['Close'].rolling(20).mean()\n",
    "    bb_std = g['Close'].rolling(20).std()\n",
    "    g['BB_width'] = 2 * bb_std\n",
    "    return g\n",
    "\n",
    "frames = []\n",
    "for t, g in tqdm(prices.groupby('Ticker'), desc=\"Computing technicals\"):\n",
    "    frames.append(add_tech_indicators(g))\n",
    "data = pd.concat(frames, ignore_index=True, sort=False)\n",
    "print(\"Data after technicals:\", data.shape)\n"
   ]
  },
  {
   "cell_type": "code",
   "execution_count": 6,
   "id": "bfd803bd-c314-4548-8bf5-9005dbfce3f4",
   "metadata": {},
   "outputs": [
    {
     "name": "stderr",
     "output_type": "stream",
     "text": [
      "Merging balances: 100%|███████████████████████████████████████████████████████████| 2008/2008 [00:07<00:00, 281.46it/s]\n"
     ]
    },
    {
     "name": "stdout",
     "output_type": "stream",
     "text": [
      "Merged shape: (6590587, 29)\n"
     ]
    }
   ],
   "source": [
    "# Cell 6 - Merge overview static fields and balance data via merge_asof when ReportDate exists\n",
    "df = data.copy()\n",
    "\n",
    "# Merge overview on Ticker (static)\n",
    "if 'Ticker' in overview.columns:\n",
    "    # take first rows per ticker (static)\n",
    "    ov_small = overview.groupby('Ticker', as_index=False).first()\n",
    "    df = df.merge(ov_small.add_prefix('ov_'), left_on='Ticker', right_on='ov_Ticker', how='left')\n",
    "    # drop duplicate prefix column\n",
    "    if 'ov_Ticker' in df.columns: df.drop(columns=['ov_Ticker'], inplace=True)\n",
    "\n",
    "# For balances: if they have ReportDate column, merge_asof per ticker; else broadcast first row\n",
    "date_cols_bal = [c for c in balances.columns if 'date' in c.lower() or 'period' in c.lower() or 'report' in c.lower()]\n",
    "balances = balances.copy()\n",
    "if date_cols_bal:\n",
    "    balances = balances.rename(columns={date_cols_bal[0]:'ReportDate'})\n",
    "    balances['ReportDate'] = pd.to_datetime(balances['ReportDate'], errors='coerce')\n",
    "    balances_sorted = balances.dropna(subset=['ReportDate']).sort_values(['Ticker','ReportDate'])\n",
    "else:\n",
    "    balances_sorted = balances.copy()\n",
    "\n",
    "merged_frames = []\n",
    "for t, g in tqdm(df.groupby('Ticker'), desc=\"Merging balances\"):\n",
    "    g = g.sort_values('Date').reset_index(drop=True)\n",
    "    b = balances_sorted[balances_sorted['Ticker']==t].copy()\n",
    "    if not b.empty and 'ReportDate' in b.columns:\n",
    "        b = b.sort_values('ReportDate')\n",
    "        merged = pd.merge_asof(g, b, left_on='Date', right_on='ReportDate', direction='backward')\n",
    "    else:\n",
    "        if not b.empty:\n",
    "            row0 = b.iloc[0].to_dict()\n",
    "            for col,val in row0.items():\n",
    "                if col!='Ticker':\n",
    "                    g[col] = val\n",
    "        merged = g\n",
    "    merged_frames.append(merged)\n",
    "merged = pd.concat(merged_frames, ignore_index=True, sort=False)\n",
    "print(\"Merged shape:\", merged.shape)\n"
   ]
  },
  {
   "cell_type": "code",
   "execution_count": 7,
   "id": "51395781-567e-4ffe-bda3-e896acb71263",
   "metadata": {},
   "outputs": [
    {
     "name": "stdout",
     "output_type": "stream",
     "text": [
      "Fundamental ratio columns: ['ov_Net_Profit']\n"
     ]
    }
   ],
   "source": [
    "# Cell 7 - compute simple ratios heuristically\n",
    "def to_num(x): return pd.to_numeric(x, errors='coerce')\n",
    "m = merged.copy()\n",
    "cols_low = {c.lower():c for c in m.columns}\n",
    "\n",
    "def find_col(keys):\n",
    "    for k in keys:\n",
    "        for cl,c in cols_low.items():\n",
    "            if k in cl:\n",
    "                return c\n",
    "    return None\n",
    "\n",
    "total_assets_col = find_col(['total asset'])\n",
    "total_liab_col = find_col(['total liab','liabilities'])\n",
    "net_debt_col = find_col(['net debt'])\n",
    "revenue_col = find_col(['revenue'])\n",
    "netprofit_col = find_col(['net profit','netincome','net income'])\n",
    "\n",
    "if total_assets_col and total_liab_col:\n",
    "    m['DebtToAssets'] = to_num(m[total_liab_col]) / (to_num(m[total_assets_col]) + 1e-9)\n",
    "if net_debt_col and total_assets_col:\n",
    "    m['NetDebtToAssets'] = to_num(m[net_debt_col]) / (to_num(m[total_assets_col]) + 1e-9)\n",
    "if revenue_col and netprofit_col:\n",
    "    m['ProfitMargin'] = to_num(m[netprofit_col]) / (to_num(m[revenue_col]) + 1e-9)\n",
    "\n",
    "# Ensure Close exists and drop rows missing it\n",
    "m = m.dropna(subset=['Close']).reset_index(drop=True)\n",
    "merged = m.copy()\n",
    "print(\"Fundamental ratio columns:\", [c for c in merged.columns if c.lower().startswith('debt') or 'profit' in c.lower()])\n"
   ]
  },
  {
   "cell_type": "code",
   "execution_count": 8,
   "id": "2b2470c6-db32-4eab-a8dc-60e2e9493e2f",
   "metadata": {},
   "outputs": [
    {
     "name": "stdout",
     "output_type": "stream",
     "text": [
      "Rows after target creation: 6584563\n",
      "Class balance: {0: 0.5392260655718535, 1: 0.46077393442814657}\n"
     ]
    }
   ],
   "source": [
    "# Cell 8 - Create targets\n",
    "df = merged.sort_values(['Ticker','Date']).reset_index(drop=True)\n",
    "df['FutureClose'] = df.groupby('Ticker')['Close'].shift(-PRED_HORIZON)\n",
    "df['Target3_ret'] = (df['FutureClose'] / df['Close']) - 1.0\n",
    "df['Target3_class'] = (df['Target3_ret'] > THRESHOLD).astype(int)\n",
    "df = df.dropna(subset=['FutureClose']).reset_index(drop=True)\n",
    "print(\"Rows after target creation:\", len(df))\n",
    "print(\"Class balance:\", df['Target3_class'].value_counts(normalize=True).to_dict())\n"
   ]
  },
  {
   "cell_type": "code",
   "execution_count": 9,
   "id": "61f03b85-97ec-40af-bc3a-4de5ad80ccb6",
   "metadata": {},
   "outputs": [
    {
     "name": "stdout",
     "output_type": "stream",
     "text": [
      "Candidate numeric features count: 21\n",
      "Features kept (after >60% missing filter): 15\n",
      "Ticker count: 2008\n"
     ]
    }
   ],
   "source": [
    "# Cell 9 - select features and prepare X,y\n",
    "# Use numeric features from technicals and derived fundamentals + some overview fields\n",
    "numeric_cols = [c for c in df.columns if pd.api.types.is_numeric_dtype(df[c])]\n",
    "# exclude identifiers & targets\n",
    "exclude = set(['FutureClose','Target3_ret','Target3_class'])\n",
    "feature_cols = [c for c in numeric_cols if c not in exclude and c not in ['Date']]\n",
    "print(\"Candidate numeric features count:\", len(feature_cols))\n",
    "\n",
    "# Optionally drop features with too many NaNs\n",
    "na_pct = df[feature_cols].isna().mean()\n",
    "keep_feats = na_pct[na_pct < 0.6].index.tolist()\n",
    "feature_cols = keep_feats\n",
    "print(\"Features kept (after >60% missing filter):\", len(feature_cols))\n",
    "\n",
    "# fill na with 0 (or consider median imputation)\n",
    "X = df[feature_cols].fillna(0)\n",
    "y_class = df['Target3_class'].astype(int)\n",
    "y_reg = df['Target3_ret'].astype(float)\n",
    "\n",
    "# ticker id (categorical) - handy for LGB and LSTM embedding\n",
    "df['TickerID'] = df['Ticker'].astype('category').cat.codes\n",
    "ticker_to_id = dict(enumerate(df['Ticker'].astype('category').cat.categories))\n",
    "print(\"Ticker count:\", len(ticker_to_id))\n"
   ]
  },
  {
   "cell_type": "code",
   "execution_count": 10,
   "id": "c4dce97f-58df-4872-9142-1fe4440f3e6b",
   "metadata": {},
   "outputs": [
    {
     "name": "stdout",
     "output_type": "stream",
     "text": [
      "Train rows: 5268401 Test rows: 1316162 split_date: 2022-09-27 00:00:00\n",
      "Training LightGBM regressor...\n",
      "Training until validation scores don't improve for 50 rounds\n",
      "Early stopping, best iteration is:\n",
      "[1]\tvalid_0's rmse: 0.13244\n",
      "LGB Regression RMSE (3-day ret): 0.13244025334020038\n",
      "scale_pos_weight set to: 1.1825501248201025\n",
      "Training LightGBM classifier...\n",
      "Training until validation scores don't improve for 50 rounds\n",
      "[100]\tvalid_0's auc: 0.549436\n",
      "[200]\tvalid_0's auc: 0.551505\n",
      "[300]\tvalid_0's auc: 0.552341\n",
      "[400]\tvalid_0's auc: 0.552891\n",
      "[500]\tvalid_0's auc: 0.553165\n",
      "[600]\tvalid_0's auc: 0.553497\n",
      "[700]\tvalid_0's auc: 0.553619\n",
      "[800]\tvalid_0's auc: 0.553882\n",
      "[900]\tvalid_0's auc: 0.554021\n",
      "[1000]\tvalid_0's auc: 0.554208\n",
      "Did not meet early stopping. Best iteration is:\n",
      "[1000]\tvalid_0's auc: 0.554208\n",
      "\n",
      "LGB Classifier metrics on test:\n",
      "Accuracy: 0.5131594742896392\n",
      "F1: 0.6083590602734685\n",
      "ROC-AUC: 0.5542078419948322\n",
      "              precision    recall  f1-score   support\n",
      "\n",
      "           0       0.59      0.26      0.36    696041\n",
      "           1       0.49      0.80      0.61    620121\n",
      "\n",
      "    accuracy                           0.51   1316162\n",
      "   macro avg       0.54      0.53      0.48   1316162\n",
      "weighted avg       0.54      0.51      0.48   1316162\n",
      "\n",
      "Saved baseline models to C:\\Users\\KIIT\\Downloads\\predictions_output\n"
     ]
    }
   ],
   "source": [
    "# -------------------- Cell 10 (FIXED) --------------------\n",
    "# Time-based split and baseline LightGBM trains (regression & classification)\n",
    "import numpy as np\n",
    "from sklearn.metrics import mean_squared_error\n",
    "\n",
    "# Time split by date (global)\n",
    "split_date = df['Date'].quantile(0.8)\n",
    "train_mask = df['Date'] <= split_date\n",
    "test_mask = df['Date'] > split_date\n",
    "\n",
    "X_train = X[train_mask]\n",
    "X_test  = X[test_mask]\n",
    "ycla_train = y_class[train_mask]\n",
    "ycla_test  = y_class[test_mask]\n",
    "yreg_train = y_reg[train_mask]\n",
    "yreg_test  = y_reg[test_mask]\n",
    "\n",
    "print(\"Train rows:\", len(X_train), \"Test rows:\", len(X_test), \"split_date:\", split_date)\n",
    "\n",
    "# Scale numeric features for LGB/regression (LGB can handle unscaled, but scaling helps LSTM & stacking)\n",
    "scaler = StandardScaler()\n",
    "scaler.fit(X_train)\n",
    "X_train_scaled = pd.DataFrame(scaler.transform(X_train), columns=X_train.columns, index=X_train.index)\n",
    "X_test_scaled  = pd.DataFrame(scaler.transform(X_test),  columns=X_test.columns,  index=X_test.index)\n",
    "joblib.dump(scaler, os.path.join(OUTPUT_DIR, 'feature_scaler.pkl'))\n",
    "\n",
    "# -------------------- LightGBM regression (predict 3-day return) --------------------\n",
    "lgb_reg = lgb.LGBMRegressor(**LGB_PARAMS_REG, n_estimators=1000)\n",
    "print(\"Training LightGBM regressor...\")\n",
    "lgb_reg.fit(X_train_scaled, yreg_train,\n",
    "            eval_set=[(X_test_scaled, yreg_test)],\n",
    "            callbacks=[lgb.early_stopping(50), lgb.log_evaluation(100)])\n",
    "\n",
    "yreg_pred = lgb_reg.predict(X_test_scaled)\n",
    "\n",
    "# Compute RMSE in a way compatible with all sklearn versions\n",
    "mse = mean_squared_error(yreg_test.values.astype(float), yreg_pred.astype(float))\n",
    "rmse = np.sqrt(mse)\n",
    "print(\"LGB Regression RMSE (3-day ret):\", rmse)\n",
    "\n",
    "# -------------------- LightGBM classification (predict up/down) --------------------\n",
    "lgb_clf = lgb.LGBMClassifier(**LGB_PARAMS_CLASS, n_estimators=1000)\n",
    "# handle class imbalance: compute scale_pos_weight if possible\n",
    "pos = int(ycla_train.sum())\n",
    "neg = int(len(ycla_train) - pos)\n",
    "if pos > 0:\n",
    "    scale_pos_weight = neg / max(pos, 1)\n",
    "    lgb_clf.set_params(scale_pos_weight=scale_pos_weight)\n",
    "    print(\"scale_pos_weight set to:\", scale_pos_weight)\n",
    "\n",
    "print(\"Training LightGBM classifier...\")\n",
    "lgb_clf.fit(X_train_scaled, ycla_train,\n",
    "            eval_set=[(X_test_scaled, ycla_test)],\n",
    "            callbacks=[lgb.early_stopping(50), lgb.log_evaluation(100)])\n",
    "\n",
    "# Predict & evaluate classifier\n",
    "ycla_prob = lgb_clf.predict_proba(X_test_scaled)[:, 1]\n",
    "ycla_pred = (ycla_prob >= 0.5).astype(int)\n",
    "\n",
    "print(\"\\nLGB Classifier metrics on test:\")\n",
    "print(\"Accuracy:\", accuracy_score(ycla_test, ycla_pred))\n",
    "print(\"F1:\", f1_score(ycla_test, ycla_pred))\n",
    "try:\n",
    "    print(\"ROC-AUC:\", roc_auc_score(ycla_test, ycla_prob))\n",
    "except Exception:\n",
    "    print(\"ROC-AUC: could not be computed (possible single-class in test predictions).\")\n",
    "print(classification_report(ycla_test, ycla_pred, zero_division=0))\n",
    "\n",
    "# Save baseline models\n",
    "try:\n",
    "    # booster_.save_model exists for fitted models\n",
    "    lgb_reg.booster_.save_model(os.path.join(OUTPUT_DIR, 'lgb_reg_baseline.txt'))\n",
    "    lgb_clf.booster_.save_model(os.path.join(OUTPUT_DIR, 'lgb_clf_baseline.txt'))\n",
    "except Exception:\n",
    "    # fallback to joblib if booster_.save_model not available\n",
    "    joblib.dump(lgb_reg, os.path.join(OUTPUT_DIR, 'lgb_reg_baseline.pkl'))\n",
    "    joblib.dump(lgb_clf, os.path.join(OUTPUT_DIR, 'lgb_clf_baseline.pkl'))\n",
    "\n",
    "print(\"Saved baseline models to\", OUTPUT_DIR)\n",
    "# -------------------- end Cell 10 --------------------\n"
   ]
  },
  {
   "cell_type": "code",
   "execution_count": 11,
   "id": "4eba3d3d-aea8-4d6f-9bfa-038abdd02c3f",
   "metadata": {
    "scrolled": true
   },
   "outputs": [
    {
     "data": {
      "image/png": "[encoded data removed]",
      "text/plain": [
       "<Figure size 1000x600 with 1 Axes>"
      ]
     },
     "metadata": {},
     "output_type": "display_data"
    },
    {
     "data": {
      "image/png": "[encoded data removed]",
      "text/plain": [
       "<Figure size 1000x600 with 1 Axes>"
      ]
     },
     "metadata": {},
     "output_type": "display_data"
    },
    {
     "data": {
      "image/png": "[encoded data removed]",
      "text/plain": [
       "<Figure size 640x480 with 1 Axes>"
      ]
     },
     "metadata": {},
     "output_type": "display_data"
    },
    {
     "data": {
      "image/png": "[encoded data removed]",
      "text/plain": [
       "<Figure size 640x480 with 1 Axes>"
      ]
     },
     "metadata": {},
     "output_type": "display_data"
    }
   ],
   "source": [
    "# -------------------- Cell 11 --------------------\n",
    "import matplotlib.pyplot as plt\n",
    "import seaborn as sns\n",
    "\n",
    "# Feature importance for both models\n",
    "def plot_importance(model, title):\n",
    "    imp = pd.DataFrame({\n",
    "        'Feature': model.feature_name_,\n",
    "        'Importance': model.feature_importances_\n",
    "    }).sort_values('Importance', ascending=False)\n",
    "    \n",
    "    plt.figure(figsize=(10,6))\n",
    "    sns.barplot(x='Importance', y='Feature', data=imp.head(25))\n",
    "    plt.title(title)\n",
    "    plt.tight_layout()\n",
    "    plt.show()\n",
    "\n",
    "plot_importance(lgb_reg, \"Top 25 Features - LightGBM Regressor\")\n",
    "plot_importance(lgb_clf, \"Top 25 Features - LightGBM Classifier\")\n",
    "\n",
    "# Regression residual diagnostics\n",
    "residuals = yreg_test - yreg_pred\n",
    "sns.histplot(residuals, kde=True)\n",
    "plt.title(\"Distribution of Regression Residuals\")\n",
    "plt.show()\n",
    "\n",
    "sns.scatterplot(x=yreg_pred, y=residuals)\n",
    "plt.axhline(0, color='red', linestyle='--')\n",
    "plt.title(\"Predicted vs Residuals\")\n",
    "plt.show()\n"
   ]
  },
  {
   "cell_type": "code",
   "execution_count": null,
   "id": "c410d5a1-bbcd-49cb-aa3d-9e0753354abe",
   "metadata": {},
   "outputs": [],
   "source": []
  },
  {
   "cell_type": "code",
   "execution_count": 12,
   "id": "81e002d1-cf29-41c1-9796-a8458b0d6d09",
   "metadata": {},
   "outputs": [
    {
     "name": "stdout",
     "output_type": "stream",
     "text": [
      "CELL 12: Safe tuning (regression) using a small sample...\n"
     ]
    },
    {
     "ename": "NameError",
     "evalue": "name 'x_train_scaled' is not defined",
     "output_type": "error",
     "traceback": [
      "\u001b[1;31m---------------------------------------------------------------------------\u001b[0m",
      "\u001b[1;31mNameError\u001b[0m                                 Traceback (most recent call last)",
      "Cell \u001b[1;32mIn[12], line 13\u001b[0m\n\u001b[0;32m     11\u001b[0m sample_frac \u001b[38;5;241m=\u001b[39m \u001b[38;5;241m0.05\u001b[39m\n\u001b[0;32m     12\u001b[0m \u001b[38;5;28;01mif\u001b[39;00m sample_frac \u001b[38;5;241m<\u001b[39m \u001b[38;5;241m1.0\u001b[39m:\n\u001b[1;32m---> 13\u001b[0m     X_sample, _, y_sample, _ \u001b[38;5;241m=\u001b[39m train_test_split(\u001b[43mx_train_scaled\u001b[49m, yreg_train, train_size\u001b[38;5;241m=\u001b[39msample_frac, random_state\u001b[38;5;241m=\u001b[39m\u001b[38;5;241m42\u001b[39m)\n\u001b[0;32m     14\u001b[0m \u001b[38;5;28;01melse\u001b[39;00m:\n\u001b[0;32m     15\u001b[0m     X_sample, y_sample \u001b[38;5;241m=\u001b[39m x_train_scaled, yreg_train\n",
      "\u001b[1;31mNameError\u001b[0m: name 'x_train_scaled' is not defined"
     ]
    }
   ],
   "source": [
    "\n",
    "# -------------------- Cell 12 --------------------\n",
    "import os, joblib, time\n",
    "from sklearn.model_selection import RandomizedSearchCV, train_test_split\n",
    "from scipy.stats import randint, uniform\n",
    "import lightgbm as lgb\n",
    "from sklearn.metrics import mean_squared_error\n",
    "\n",
    "print(\"CELL 12: Safe tuning (regression) using a small sample...\")\n",
    "\n",
    "# sample fraction for tuning (5% recommended)\n",
    "sample_frac = 0.05\n",
    "if sample_frac < 1.0:\n",
    "    X_sample, _, y_sample, _ = train_test_split(x_train_scaled, yreg_train, train_size=sample_frac, random_state=42)\n",
    "else:\n",
    "    X_sample, y_sample = x_train_scaled, yreg_train\n",
    "\n",
    "param_dist = {\n",
    "    'num_leaves': randint(31, 127),\n",
    "    'max_depth': randint(4, 16),\n",
    "    'learning_rate': uniform(0.01, 0.05),\n",
    "    'feature_fraction': uniform(0.6, 0.4),\n",
    "    'bagging_fraction': uniform(0.6, 0.4),\n",
    "    'min_child_samples': randint(20, 120)\n",
    "}\n",
    "\n",
    "base_reg = lgb.LGBMRegressor(objective='regression', n_estimators=300, n_jobs=-1, random_state=42)\n",
    "\n",
    "reg_search = RandomizedSearchCV(\n",
    "    estimator=base_reg,\n",
    "    param_distributions=param_dist,\n",
    "    n_iter=10,               # small search to keep it fast\n",
    "    scoring='neg_root_mean_squared_error',\n",
    "    cv=2,\n",
    "    verbose=1,\n",
    "    n_jobs=-1,\n",
    "    random_state=42\n",
    ")\n",
    "\n",
    "start = time.time()\n",
    "reg_search.fit(X_sample, y_sample)\n",
    "print(f\"Tuning finished in {(time.time()-start)/60:.2f} minutes\")\n",
    "\n",
    "best_reg_params = reg_search.best_params_\n",
    "print(\"Best regression params (sample search):\", best_reg_params)\n",
    "joblib.dump(reg_search.best_estimator_, os.path.join(OUTPUT_DIR, 'lgb_reg_search_sample.pkl'))\n",
    "\n",
    "\n"
   ]
  },
  {
   "cell_type": "code",
   "execution_count": null,
   "id": "e74a9d91-0530-4a70-935d-8abbd227dff9",
   "metadata": {},
   "outputs": [],
   "source": []
  }
 ],
 "metadata": {
  "kernelspec": {
   "display_name": "Python 3 (ipykernel)",
   "language": "python",
   "name": "python3"
  },
  "language_info": {
   "codemirror_mode": {
    "name": "ipython",
    "version": 3
   },
   "file_extension": ".py",
   "mimetype": "text/x-python",
   "name": "python",
   "nbconvert_exporter": "python",
   "pygments_lexer": "ipython3",
   "version": "3.10.18"
  }
 },
 "nbformat": 4,
 "nbformat_minor": 5
}
